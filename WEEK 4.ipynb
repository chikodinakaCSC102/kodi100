{
 "cells": [
  {
   "cell_type": "code",
   "execution_count": 1,
   "id": "bb071d45",
   "metadata": {},
   "outputs": [
    {
     "name": "stdout",
     "output_type": "stream",
     "text": [
      "Enter a number to generate its pattern: 3\n",
      "1 \n",
      "1 2 \n",
      "1 2 3 \n"
     ]
    }
   ],
   "source": [
    "num = int(input(\"Enter a number to generate its pattern: \"))\n",
    "for i in range(1, num + 1):\n",
    "    for j in range(1,i + 1):\n",
    "        print(j, end = \" \")\n",
    "    print()"
   ]
  },
  {
   "cell_type": "code",
   "execution_count": 2,
   "id": "8b443e6f",
   "metadata": {},
   "outputs": [
    {
     "name": "stdout",
     "output_type": "stream",
     "text": [
      "2 is a prime number\n",
      "Bye Bye!!\n",
      "3 is a prime number\n",
      "Bye Bye!!\n",
      "5 is a prime number\n",
      "Bye Bye!!\n",
      "7 is a prime number\n",
      "Bye Bye!!\n",
      "11 is a prime number\n",
      "Bye Bye!!\n",
      "13 is a prime number\n",
      "Bye Bye!!\n",
      "17 is a prime number\n",
      "Bye Bye!!\n",
      "19 is a prime number\n",
      "Bye Bye!!\n",
      "23 is a prime number\n",
      "Bye Bye!!\n",
      "29 is a prime number\n",
      "Bye Bye!!\n",
      "31 is a prime number\n",
      "Bye Bye!!\n",
      "37 is a prime number\n",
      "Bye Bye!!\n",
      "41 is a prime number\n",
      "Bye Bye!!\n",
      "43 is a prime number\n",
      "Bye Bye!!\n",
      "47 is a prime number\n",
      "Bye Bye!!\n"
     ]
    }
   ],
   "source": [
    "num = 2\n",
    "for i in range(2,50):\n",
    "    j=2\n",
    "    while(j<=(i/2)):\n",
    "        if(i%j==0):\n",
    "            break\n",
    "        j+=1\n",
    "    if(j>i/j):\n",
    "        print(i,\"is a prime number\")\n",
    "        print(\"Bye Bye!!\")"
   ]
  },
  {
   "cell_type": "code",
   "execution_count": 5,
   "id": "31c3fc84",
   "metadata": {},
   "outputs": [
    {
     "name": "stdout",
     "output_type": "stream",
     "text": [
      "Enter a number: 9\n",
      "factorial of 9 is 362880\n"
     ]
    }
   ],
   "source": [
    "num=int(input(\"Enter a number: \"))\n",
    "fact=1\n",
    "if num<0:\n",
    "    print(\"Sorry, does not exist for negative numbers\")\n",
    "elif num==0:\n",
    "    print(\"The factorial of 0 is 1\")\n",
    "else:\n",
    "    for i in range(1, num+1):\n",
    "        fact=fact*i\n",
    "    print(\"factorial of\",num,\"is\", fact)\n",
    "    "
   ]
  },
  {
   "cell_type": "code",
   "execution_count": null,
   "id": "8ea2497b",
   "metadata": {},
   "outputs": [],
   "source": [
    "+"
   ]
  }
 ],
 "metadata": {
  "kernelspec": {
   "display_name": "Python 3 (ipykernel)",
   "language": "python",
   "name": "python3"
  },
  "language_info": {
   "codemirror_mode": {
    "name": "ipython",
    "version": 3
   },
   "file_extension": ".py",
   "mimetype": "text/x-python",
   "name": "python",
   "nbconvert_exporter": "python",
   "pygments_lexer": "ipython3",
   "version": "3.9.7"
  }
 },
 "nbformat": 4,
 "nbformat_minor": 5
}
